{
  "nbformat": 4,
  "nbformat_minor": 0,
  "metadata": {
    "colab": {
      "provenance": [],
      "include_colab_link": true
    },
    "kernelspec": {
      "name": "python3",
      "display_name": "Python 3"
    },
    "language_info": {
      "name": "python"
    }
  },
  "cells": [
    {
      "cell_type": "markdown",
      "metadata": {
        "id": "view-in-github",
        "colab_type": "text"
      },
      "source": [
        "<a href=\"https://colab.research.google.com/github/giuvallente/logic-and-discrete-mathematics/blob/main/LOGIC%2BDISCRETEMATH_CLASS_00.ipynb\" target=\"_parent\"><img src=\"https://colab.research.google.com/assets/colab-badge.svg\" alt=\"Open In Colab\"/></a>"
      ]
    },
    {
      "cell_type": "markdown",
      "source": [
        "<div class=\"alert alert-block alert-info\">\n",
        "\n",
        "#**CLASS 00 - MOTIVATION TO LOGIC AND DISCRETE MATHEMATICS**\n",
        "**Learning Objectives:**\n",
        "*   Building a simple program to solve a simple discrete problem\n",
        "*   Refining this simple program\n",
        "*   Proving the program correctness\n",
        "*   Analysis of program efficiency\n",
        "\n",
        "</div>\n"
      ],
      "metadata": {
        "id": "33EEpDW7pOaO"
      }
    },
    {
      "cell_type": "markdown",
      "source": [
        "### **EXERCISE 1.**\n",
        "\n",
        "We define the factorial n! of an natural number as:\n",
        "\n",
        "*   0! = 1\n",
        "*   n! = nx(n-1)x(n-2)x...x2x1, if n>0\n",
        "\n",
        "Build an iteractive function fact(n) in Python to compute n! and test it:\n",
        "\n"
      ],
      "metadata": {
        "id": "iyV-u81mKdDo"
      }
    },
    {
      "cell_type": "code",
      "source": [
        "#TYPE YOUR SOLUTION HERE\n",
        "\n",
        "def factorial(n):\n",
        "  factorial = 1\n",
        "\n",
        "  if n == 0:\n",
        "    return 1\n",
        "\n",
        "  for i in range(1, n + 1):\n",
        "    factorial = i * factorial\n",
        "\n",
        "  return factorial"
      ],
      "metadata": {
        "id": "qqIisS25pMm5"
      },
      "execution_count": 13,
      "outputs": []
    },
    {
      "cell_type": "markdown",
      "source": [
        "### **EXERCISE 2.**\n",
        "\n",
        "Rewrite the function fact(n) in a simpler way and test it:"
      ],
      "metadata": {
        "id": "IiH2Xppf6rbg"
      }
    },
    {
      "cell_type": "code",
      "source": [
        "#TYPE YOUR SOLUTION HERE\n",
        "def factorial(n):\n",
        "  return 1 if n == 0 else n * factorial(n-1)\n"
      ],
      "metadata": {
        "id": "Tc2TcLCK7BPw"
      },
      "execution_count": 16,
      "outputs": []
    },
    {
      "cell_type": "markdown",
      "source": [
        "### **EXERCISE 3.**\n",
        "\n",
        "Prove that your function fact(n) computes n!:"
      ],
      "metadata": {
        "id": "sWzDnukBLtoX"
      }
    },
    {
      "cell_type": "markdown",
      "source": [
        "- caso-base: n = 0, fact(0) = 1 = 0! (OK)\n",
        "- passo indutivo: assuma o resultado válido para n>0.\n",
        "\n",
        "Vamos provar para n + 1:\n",
        "\n",
        "- fact(n+1) = fact(n) * (n+1) = n! * (n+1) = (n+1)!"
      ],
      "metadata": {
        "id": "ferrSHvoMLtt"
      }
    },
    {
      "cell_type": "markdown",
      "source": [
        "### **EXERCISE 4.**\n",
        "\n",
        "How many multiplications does your fact(n) implementation use ?"
      ],
      "metadata": {
        "id": "6RRRVjqpMVWM"
      }
    },
    {
      "cell_type": "markdown",
      "source": [
        "Seja T(n) o número de multiplicações com n:\n",
        "\n",
        "- T(0) = 0\n",
        "- T(n) = 1 + T(n - 1), se n > 0\n",
        "\n",
        "Resolvendo esta recorrência, obtemos T(n) = n."
      ],
      "metadata": {
        "id": "rICemo4iMnZA"
      }
    }
  ]
}