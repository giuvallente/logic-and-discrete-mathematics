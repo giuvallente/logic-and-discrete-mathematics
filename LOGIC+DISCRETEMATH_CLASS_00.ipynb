{
  "cells": [
    {
      "cell_type": "markdown",
      "metadata": {
        "colab_type": "text",
        "id": "view-in-github"
      },
      "source": [
        "<a href=\"https://colab.research.google.com/github/giuvallente/logic-and-discrete-mathematics/blob/main/LOGIC%2BDISCRETEMATH_CLASS_00.ipynb\" target=\"_parent\"><img src=\"https://colab.research.google.com/assets/colab-badge.svg\" alt=\"Open In Colab\"/></a>"
      ]
    },
    {
      "cell_type": "markdown",
      "metadata": {
        "id": "33EEpDW7pOaO"
      },
      "source": [
        "<div class=\"alert alert-block alert-info\">\n",
        "\n",
        "#**CLASS 00 - MOTIVATION TO LOGIC AND DISCRETE MATHEMATICS**\n",
        "**Learning Objectives:**\n",
        "*   Building a simple program to solve a simple discrete problem\n",
        "*   Refining this simple program\n",
        "*   Proving the program correctness\n",
        "*   Analysis of program efficiency\n",
        "\n",
        "</div>\n"
      ]
    },
    {
      "cell_type": "markdown",
      "metadata": {
        "id": "iyV-u81mKdDo"
      },
      "source": [
        "### **EXERCISE 1.**\n",
        "\n",
        "We define the factorial n! of an natural number as:\n",
        "\n",
        "*   0! = 1\n",
        "*   n! = nx(n-1)x(n-2)x...x2x1, if n>0\n",
        "\n",
        "Build an iteractive function fact(n) in Python to compute n! and test it:\n",
        "\n"
      ]
    },
    {
      "cell_type": "code",
      "execution_count": 13,
      "metadata": {
        "id": "qqIisS25pMm5"
      },
      "outputs": [],
      "source": [
        "#TYPE YOUR SOLUTION HERE\n",
        "\n",
        "def factorial(n):\n",
        "  factorial = 1\n",
        "\n",
        "  if n == 0:\n",
        "    return 1\n",
        "\n",
        "  for i in range(1, n + 1):\n",
        "    factorial = i * factorial\n",
        "\n",
        "  return factorial"
      ]
    },
    {
      "cell_type": "markdown",
      "metadata": {
        "id": "IiH2Xppf6rbg"
      },
      "source": [
        "### **EXERCISE 2.**\n",
        "\n",
        "Rewrite the function fact(n) in a simpler way and test it:"
      ]
    },
    {
      "cell_type": "code",
      "execution_count": 16,
      "metadata": {
        "id": "Tc2TcLCK7BPw"
      },
      "outputs": [],
      "source": [
        "#TYPE YOUR SOLUTION HERE\n",
        "\n",
        "def factorial(n):\n",
        "  return 1 if n == 0 else n * factorial(n-1)"
      ]
    },
    {
      "cell_type": "markdown",
      "metadata": {
        "id": "sWzDnukBLtoX"
      },
      "source": [
        "### **EXERCISE 3.**\n",
        "\n",
        "Prove that your function fact(n) computes n!:"
      ]
    },
    {
      "cell_type": "markdown",
      "metadata": {
        "id": "ferrSHvoMLtt"
      },
      "source": [
        "- Caso-base: n = 0, fact(0) = 1 = 0! (OK)\n",
        "- Passo indutivo: assuma o resultado válido para n>0.\n",
        "\n",
        "Vamos provar para n + 1:\n",
        "\n",
        "- fact(n+1) = fact(n) * (n+1) = n! * (n+1) = (n+1)!"
      ]
    },
    {
      "cell_type": "markdown",
      "metadata": {
        "id": "6RRRVjqpMVWM"
      },
      "source": [
        "### **EXERCISE 4.**\n",
        "\n",
        "How many multiplications does your fact(n) implementation use ?"
      ]
    },
    {
      "cell_type": "markdown",
      "metadata": {
        "id": "rICemo4iMnZA"
      },
      "source": [
        "Seja T(n) o número de multiplicações com n:\n",
        "\n",
        "- T(0) = 0\n",
        "- T(n) = 1 + T(n - 1), se n > 0\n",
        "\n",
        "Resolvendo esta recorrência, obtemos T(n) = n."
      ]
    }
  ],
  "metadata": {
    "colab": {
      "include_colab_link": true,
      "provenance": []
    },
    "kernelspec": {
      "display_name": "Python 3",
      "name": "python3"
    },
    "language_info": {
      "name": "python"
    }
  },
  "nbformat": 4,
  "nbformat_minor": 0
}
